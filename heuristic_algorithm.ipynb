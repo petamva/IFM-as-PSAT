{
 "cells": [
  {
   "cell_type": "code",
   "execution_count": 1,
   "metadata": {},
   "outputs": [],
   "source": [
    "import fim\r\n",
    "from scipy.spatial import distance"
   ]
  },
  {
   "cell_type": "markdown",
   "metadata": {},
   "source": [
    "### These correspond to the items in the database and have to be hardcoded"
   ]
  },
  {
   "cell_type": "code",
   "execution_count": null,
   "metadata": {},
   "outputs": [],
   "source": [
    "ITEMS = 'item1', 'item2', 'item3', 'item4', 'item5'  "
   ]
  },
  {
   "cell_type": "markdown",
   "metadata": {},
   "source": [
    "### Necessary functions"
   ]
  },
  {
   "cell_type": "code",
   "execution_count": 2,
   "metadata": {},
   "outputs": [],
   "source": [
    "def subset_of(list01, list02):\r\n",
    "    ''' Check if list01 is subset of list02'''\r\n",
    "    for item in list01:\r\n",
    "        if item not in list02:\r\n",
    "            return False\r\n",
    "    return True"
   ]
  },
  {
   "cell_type": "code",
   "execution_count": 3,
   "metadata": {},
   "outputs": [],
   "source": [
    "def create_database_dict(transactions):\r\n",
    "    ''' Create a dictionary that stores transactions-supports pairs.\r\n",
    "        key: transaction\r\n",
    "        value: [og_support, 0]\r\n",
    "        Values are 2-item lists for storing og support and recreated support'''\r\n",
    "    item_dict = {}\r\n",
    "    for item in transactions:\r\n",
    "        item = tuple(sorted(item))\r\n",
    "        if item_dict.get(item):\r\n",
    "            item_dict[item][0] += 1/len(transactions)\r\n",
    "        else:\r\n",
    "            item_dict[item] = [1/len(transactions), 0]\r\n",
    "    return item_dict   "
   ]
  },
  {
   "cell_type": "code",
   "execution_count": 4,
   "metadata": {},
   "outputs": [],
   "source": [
    "def recreate_database(itemset_collection):\r\n",
    "    ''' Recreate the database using heuristic algorithm. \r\n",
    "        This function uses a reverse sorted list which stores itemsets with their support_count \r\n",
    "        and then starting from the second itemset checks if the itemset is a subset of the preceding elements \r\n",
    "        and if it is it updates its support count. '''\r\n",
    "    _ = [[sorted(list(item[0])), item[1]] for item in itemset_collection]\r\n",
    "    sorted_list = sorted(_, key=lambda x: len(x[0]), reverse=True)\r\n",
    "    n = len(sorted_list)\r\n",
    "    for i in range(1, n):  # iterate list starting from the second item \r\n",
    "        for j in range(i):  # iterate the preceding items\r\n",
    "            if subset_of(sorted_list[i][0], sorted_list[j][0]):  # check is item is subset of preceding item\r\n",
    "                sorted_list[i][1] -= sorted_list[j][1]  # if it is update its support\r\n",
    "        if sorted_list[i][1] < 0:\r\n",
    "            sorted_list[i][1] = 0\r\n",
    "    return sorted_list        \r\n"
   ]
  },
  {
   "cell_type": "code",
   "execution_count": 5,
   "metadata": {},
   "outputs": [],
   "source": [
    "def get_negbord(support):\r\n",
    "    ''' Calculate the negative border of a transactional database  '''\r\n",
    "    freq_0 = fim.apriori(item_list, supp=0, target='s' , report='a')\r\n",
    "    _ = list(filter(lambda x: x[1] < support, freq_0))\r\n",
    "    if _:\r\n",
    "        min_len = len(min(_, key=lambda x: len(x[0]))[0])\r\n",
    "        if len(ITEMS) == len(items) or min_len == 1:\r\n",
    "            return list(filter(lambda x: len(x[0]) == min_len, _))\r\n",
    "    return []"
   ]
  },
  {
   "cell_type": "markdown",
   "metadata": {},
   "source": [
    "### Import the database transactions from file"
   ]
  },
  {
   "cell_type": "code",
   "execution_count": 6,
   "metadata": {},
   "outputs": [],
   "source": [
    "with open('./datasets/5_items/dataset_100.csv', 'r') as f:\r\n",
    "    items = []\r\n",
    "    item_list = []\r\n",
    "    for line in f:\r\n",
    "        temp_line = line.strip()[:-1].replace('\"', '').split(',')\r\n",
    "        for item in temp_line:\r\n",
    "            if item not in items:\r\n",
    "                items.append(item)\r\n",
    "        item_list.append(temp_line)"
   ]
  },
  {
   "cell_type": "markdown",
   "metadata": {},
   "source": [
    "### Create collections of itemsets"
   ]
  },
  {
   "cell_type": "code",
   "execution_count": 9,
   "metadata": {},
   "outputs": [],
   "source": [
    "freq = fim.apriori(item_list, supp=30, target='s' , report='s')\r\n",
    "closed = fim.apriori(item_list, supp=30, target='c' , report='s')\r\n",
    "maximal = fim.apriori(item_list, supp=30, target='m' , report='s')\r\n",
    "freq_nb = freq + get_negbord(30)\r\n",
    "max_nb = maximal + get_negbord(30)"
   ]
  },
  {
   "cell_type": "markdown",
   "metadata": {},
   "source": [
    "### Create the dictionary that will store trans-support pairs and recreate the database"
   ]
  },
  {
   "cell_type": "code",
   "execution_count": 8,
   "metadata": {},
   "outputs": [],
   "source": [
    "recr_db = recreate_database(freq)\r\n",
    "database_dict = create_database_dict(item_list)"
   ]
  },
  {
   "cell_type": "markdown",
   "metadata": {},
   "source": [
    "### Update the trans-support pairs dictionary"
   ]
  },
  {
   "cell_type": "code",
   "execution_count": 15,
   "metadata": {},
   "outputs": [],
   "source": [
    "for item in recr_db:\r\n",
    "    _ = tuple(item[0])\r\n",
    "    if _ in database_dict:\r\n",
    "        database_dict[_][1] = item[1]/100\r\n",
    "    else:\r\n",
    "         database_dict[_] = [0, item[1]/100]"
   ]
  },
  {
   "cell_type": "markdown",
   "metadata": {},
   "source": [
    "### Calculate the KL distance between og and recr dbs"
   ]
  },
  {
   "cell_type": "code",
   "execution_count": 18,
   "metadata": {},
   "outputs": [],
   "source": [
    "distance.jensenshannon([value[0] for value in database_dict.values()], [value[1] for value in database_dict.values()])"
   ]
  }
 ],
 "metadata": {
  "interpreter": {
   "hash": "6ceccbbbd313fdee5096e35dd4ed41ff756b740075a3dcc0ae542b19e353e92e"
  },
  "kernelspec": {
   "display_name": "Python 3.9.5 64-bit ('tf-2.5': conda)",
   "name": "python3"
  },
  "language_info": {
   "codemirror_mode": {
    "name": "ipython",
    "version": 3
   },
   "file_extension": ".py",
   "mimetype": "text/x-python",
   "name": "python",
   "nbconvert_exporter": "python",
   "pygments_lexer": "ipython3",
   "version": "3.9.5"
  },
  "orig_nbformat": 2
 },
 "nbformat": 4,
 "nbformat_minor": 2
}