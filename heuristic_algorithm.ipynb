{
 "metadata": {
  "language_info": {
   "codemirror_mode": {
    "name": "ipython",
    "version": 3
   },
   "file_extension": ".py",
   "mimetype": "text/x-python",
   "name": "python",
   "nbconvert_exporter": "python",
   "pygments_lexer": "ipython3",
   "version": "3.8.8"
  },
  "orig_nbformat": 2,
  "kernelspec": {
   "name": "python388jvsc74a57bd07077ef2eab130b90d9a3349f4b634c2f0ca054934b8a6a4c2fd58a60d14a1d8f",
   "display_name": "Python 3.8.8 64-bit ('r_python': conda)"
  }
 },
 "nbformat": 4,
 "nbformat_minor": 2,
 "cells": [
  {
   "cell_type": "code",
   "execution_count": 1,
   "metadata": {},
   "outputs": [],
   "source": [
    "import fim\n",
    "from copy import deepcopy\n",
    "from scipy.spatial import distance"
   ]
  },
  {
   "cell_type": "code",
   "execution_count": 2,
   "metadata": {},
   "outputs": [],
   "source": [
    "def subset_of(set01, set02):\n",
    "    ''' Check if set01 is subset of set02'''\n",
    "    for item in set01:\n",
    "        if item not in set02:\n",
    "            return False\n",
    "    return True"
   ]
  },
  {
   "cell_type": "code",
   "execution_count": 3,
   "metadata": {},
   "outputs": [],
   "source": [
    "def create_trans_dict(collection):\n",
    "    '''Create a transaction dictionary from a collection \n",
    "        of transactions. \n",
    "        Key: length of transactions\n",
    "        Value: dictionary of transactions:support counts'''\n",
    "    trans_dict = {}\n",
    "    for item in collection:\n",
    "        sorted_item = tuple(sorted(item[0]))\n",
    "        n = len(sorted_item)\n",
    "        if trans_dict.get(n):\n",
    "            if trans_dict[n].get(sorted_item):\n",
    "                trans_dict[n][sorted_item] += item[1]                \n",
    "            else:\n",
    "                trans_dict[n][sorted_item] = item[1]\n",
    "        else:\n",
    "            trans_dict[n] = {sorted_item : item[1]} \n",
    "    return trans_dict"
   ]
  },
  {
   "cell_type": "code",
   "execution_count": 4,
   "metadata": {},
   "outputs": [],
   "source": [
    "def trans_support_dict(transactions):\n",
    "    ''' Create a dictionary that stores transactions-supports pairs.\n",
    "        key: transaction\n",
    "        value: [og_support, 0]'''\n",
    "    item_dict = {}\n",
    "    for item in transactions:\n",
    "        if item_dict.get(tuple(sorted(item))):\n",
    "            item_dict[tuple(sorted(item))][0] += 1/len(transactions)\n",
    "        else:\n",
    "            item_dict[tuple(sorted(item))] = [1/len(transactions), 0]\n",
    "    return item_dict   "
   ]
  },
  {
   "cell_type": "code",
   "execution_count": 5,
   "metadata": {},
   "outputs": [],
   "source": [
    "def update_supcount(dict1, dict2):\n",
    "    '''Update supcount of itemsets in dict1 based\n",
    "        on itemsets-supcounts in dict2'''\n",
    "    for key1 in dict1.keys():\n",
    "        for key2 in dict2.keys():\n",
    "            if subset_of(key1, key2):\n",
    "                dict1[key1] -= dict2[key2]            "
   ]
  },
  {
   "cell_type": "code",
   "execution_count": 6,
   "metadata": {},
   "outputs": [],
   "source": [
    "def get_union(my_list):\n",
    "    '''Get the union of list items'''\n",
    "    a = set(my_list[0])\n",
    "    for i in range(1, len(my_list)):\n",
    "        a = a.union(set(my_list[i]))\n",
    "    return tuple(a) "
   ]
  },
  {
   "cell_type": "code",
   "execution_count": 7,
   "metadata": {},
   "outputs": [],
   "source": [
    "def update_cardinalities(a_dict):\n",
    "    if len(a_dict) == 1:\n",
    "        return a_dict\n",
    "    temp_dict = deepcopy(a_dict)\n",
    "    max_length = max(temp_dict.keys())\n",
    "    for i in range(max_length-1, 0, -1):\n",
    "        for j in range(i+1, max_length+1):\n",
    "            update_supcount(temp_dict[i], temp_dict[j])\n",
    "    return temp_dict"
   ]
  },
  {
   "cell_type": "code",
   "execution_count": 8,
   "metadata": {},
   "outputs": [],
   "source": [
    "def get_superset_dict(a_dict):\n",
    "    max_length = max(a_dict.keys())\n",
    "    for i in range(max_length-1, 0, -1):\n",
    "        for itemset1, sup1 in a_dict[i].items():\n",
    "            if sup1 < 0 :\n",
    "                superset_list = []\n",
    "                for j in range(i+1, max_length+1):\n",
    "                    for itemset2, sup2 in a_dict[j].items():\n",
    "                        if sup2 > 0 and subset_of(itemset1, itemset2):\n",
    "                            superset_list.append(itemset2)\n",
    "                    if len(superset_list) > 1:\n",
    "                        return get_union(superset_list), sup1\n",
    "                    elif len(superset_list) == 1:\n",
    "                        return superset_list[0], sup1\n",
    "    return [], 0"
   ]
  },
  {
   "cell_type": "code",
   "execution_count": 9,
   "metadata": {},
   "outputs": [],
   "source": [
    "def recreate_database(a_dict):\n",
    "    temp_dict = update_cardinalities(a_dict)\n",
    "    if temp_dict is a_dict:\n",
    "        return a_dict\n",
    "    superset, cardinality = get_superset_dict(temp_dict)\n",
    "    if not superset:\n",
    "        return temp_dict    \n",
    "    sup = 0\n",
    "    sup_len = len(superset)\n",
    "    max_length = max(a_dict.keys())\n",
    "    if max_length < sup_len:\n",
    "        a_dict[sup_len] = {superset: abs(cardinality)}\n",
    "    elif max_length > sup_len:\n",
    "        for i in range(sup_len+1, max_length+1):\n",
    "            for item, value in temp_dict[i].items():\n",
    "                if subset_of(superset, item):\n",
    "                    sup += value\n",
    "            if sup:\n",
    "                if superset in a_dict[sup_len]:\n",
    "                    a_dict[sup_len][superset] += (sup + abs(cardinality))\n",
    "                else:\n",
    "                    a_dict[sup_len][superset] = sup + abs(cardinality)\n",
    "                break\n",
    "    else:\n",
    "        if superset in a_dict[sup_len]:\n",
    "            a_dict[sup_len][superset] += abs(cardinality)\n",
    "        else:\n",
    "            a_dict[sup_len][superset] = abs(cardinality)\n",
    "    return recreate_database(a_dict)"
   ]
  },
  {
   "cell_type": "code",
   "execution_count": 10,
   "metadata": {},
   "outputs": [],
   "source": [
    "with open(r'datasets\\5_items\\dataset_05_100_03.csv', 'r') as f:\n",
    "    items = []\n",
    "    item_list = []\n",
    "    for line in f:\n",
    "        temp_line = line.strip()[:-1].replace('\"', '').split(',')\n",
    "        for item in temp_line:\n",
    "            if item not in items:\n",
    "                items.append(item)\n",
    "        item_list.append(temp_line)"
   ]
  },
  {
   "cell_type": "code",
   "execution_count": 11,
   "metadata": {},
   "outputs": [],
   "source": [
    "freq = fim.apriori(item_list, supp=0, target='s' , report='a')\n",
    "maximal = fim.apriori(item_list, supp=30, target='m' , report='a')\n",
    "closed = fim.apriori(item_list, supp=30, target='c' , report='a')"
   ]
  },
  {
   "cell_type": "code",
   "execution_count": 12,
   "metadata": {},
   "outputs": [],
   "source": [
    "trans_dict = create_trans_dict(freq)"
   ]
  },
  {
   "cell_type": "code",
   "execution_count": 13,
   "metadata": {},
   "outputs": [],
   "source": [
    "compare_dict = trans_support_dict(item_list)"
   ]
  },
  {
   "cell_type": "code",
   "execution_count": 14,
   "metadata": {},
   "outputs": [],
   "source": [
    "recreated_db = recreate_database(trans_dict)"
   ]
  },
  {
   "cell_type": "code",
   "execution_count": 15,
   "metadata": {},
   "outputs": [],
   "source": [
    "for transactions in recreated_db.values():\n",
    "    for trans, sup in transactions.items():\n",
    "        if sup:\n",
    "            if trans in compare_dict.keys():\n",
    "                compare_dict[trans][1] = sup/100\n",
    "            else:\n",
    "                compare_dict[trans] = [0, sup/100]"
   ]
  },
  {
   "cell_type": "code",
   "execution_count": 16,
   "metadata": {},
   "outputs": [
    {
     "output_type": "execute_result",
     "data": {
      "text/plain": [
       "3.4946320651646176e-09"
      ]
     },
     "metadata": {},
     "execution_count": 16
    }
   ],
   "source": [
    "distance.jensenshannon([value[0] for value in compare_dict.values()], [value[1] for value in compare_dict.values()])"
   ]
  },
  {
   "cell_type": "code",
   "execution_count": null,
   "metadata": {},
   "outputs": [],
   "source": []
  }
 ]
}