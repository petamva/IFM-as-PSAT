{
 "metadata": {
  "language_info": {
   "codemirror_mode": {
    "name": "ipython",
    "version": 3
   },
   "file_extension": ".py",
   "mimetype": "text/x-python",
   "name": "python",
   "nbconvert_exporter": "python",
   "pygments_lexer": "ipython3",
   "version": "3.8.8"
  },
  "orig_nbformat": 2,
  "kernelspec": {
   "name": "python388jvsc74a57bd07077ef2eab130b90d9a3349f4b634c2f0ca054934b8a6a4c2fd58a60d14a1d8f",
   "display_name": "Python 3.8.8 64-bit ('r_python': conda)"
  }
 },
 "nbformat": 4,
 "nbformat_minor": 2,
 "cells": [
  {
   "cell_type": "code",
   "execution_count": 1,
   "metadata": {},
   "outputs": [],
   "source": [
    "import numpy as np\n",
    "from itertools import combinations\n",
    "import fim\n",
    "from scipy.spatial import distance\n",
    "from scipy.optimize import linprog"
   ]
  },
  {
   "cell_type": "code",
   "execution_count": 2,
   "metadata": {},
   "outputs": [],
   "source": [
    "def subset_of(trans_1, trans_2):\n",
    "    ''' Check if trans_1 is subset of trans_2 '''\n",
    "    for item in trans_1:\n",
    "        if item not in trans_2:\n",
    "            return False\n",
    "    return True"
   ]
  },
  {
   "cell_type": "code",
   "execution_count": 3,
   "metadata": {},
   "outputs": [],
   "source": [
    "def trans_support_dict(transactions):\n",
    "    ''' Create a dictionary that stores transactions-supports pairs.\n",
    "        key: transaction\n",
    "        value: [og_support, 0]'''\n",
    "    item_dict = {}\n",
    "    for item in transactions:\n",
    "        if item_dict.get(tuple(sorted(item))):\n",
    "            item_dict[tuple(sorted(item))][0] += 1/len(transactions)\n",
    "        else:\n",
    "            item_dict[tuple(sorted(item))] = [1/len(transactions), 0]\n",
    "    return item_dict        "
   ]
  },
  {
   "cell_type": "code",
   "execution_count": 4,
   "metadata": {},
   "outputs": [],
   "source": [
    "def create_truth_table(items, clauses):\n",
    "    ''' Given the items of the database and the restrictions/clauses of the problem\n",
    "        create the truth table for the LP problem.'''\n",
    "    powerset = 2**len(items)-1\n",
    "    truth_table = np.zeros([len(clauses), powerset]).astype(np.int8)  \n",
    "    l = 0\n",
    "    for k in range(len(items)):\n",
    "        combs = combinations(items, k+1)\n",
    "        for i in range(l, powerset):\n",
    "            try:\n",
    "                _ = next(combs)\n",
    "                for index, clause in enumerate(clauses):\n",
    "                    if subset_of(clause[0], _):\n",
    "                        truth_table[index, i] = 1\n",
    "            except StopIteration as ex:\n",
    "                l = i\n",
    "                break\n",
    "    truth_table = np.append(truth_table, np.ones(shape=[1, truth_table.shape[1]]), axis=0)        \n",
    "    return truth_table"
   ]
  },
  {
   "cell_type": "code",
   "execution_count": 5,
   "metadata": {},
   "outputs": [],
   "source": [
    "def reconstruct_db(items, reconstr_trans):\n",
    "    ''' Reconstruct transaction database from the LP solution.\n",
    "        Database is returned as a list of trans-support tuples.'''\n",
    "    l = 0\n",
    "    reconstr_db = []\n",
    "    for k in range(len(reconstr_trans)):\n",
    "        combs = combinations(items, k+1)\n",
    "        for i in range(l, len(reconstr_trans)):\n",
    "            try:\n",
    "                _ = tuple(sorted(next(combs)))\n",
    "                if reconstr_trans[i] != 0:\n",
    "                    reconstr_db.append((_, reconstr_trans[i]))\n",
    "            except StopIteration as ex:\n",
    "                l = i\n",
    "                break\n",
    "    return reconstr_db"
   ]
  },
  {
   "source": [
    "#### Import transactions from a file"
   ],
   "cell_type": "markdown",
   "metadata": {}
  },
  {
   "cell_type": "code",
   "execution_count": 131,
   "metadata": {},
   "outputs": [],
   "source": [
    "with open(r'dataset_14_10000.csv', 'r') as f:\n",
    "    items = []\n",
    "    item_list = []\n",
    "    for line in f:\n",
    "        temp_line = line.strip()[:-1].replace('\"', '').split(',')\n",
    "        for item in temp_line:\n",
    "            if item not in items:\n",
    "                items.append(item)\n",
    "        item_list.append(temp_line)\n",
    "    items = set(items)"
   ]
  },
  {
   "source": [
    "#### Create the transaction dictionary from the imported list of transactions\n",
    "#### (or you can provide the transactions as a list) "
   ],
   "cell_type": "markdown",
   "metadata": {}
  },
  {
   "cell_type": "code",
   "execution_count": 132,
   "metadata": {},
   "outputs": [],
   "source": [
    "example_dict = trans_support_dict(item_list)"
   ]
  },
  {
   "source": [
    "#### Apply Apriori algorithm to calculate frequent itemsets"
   ],
   "cell_type": "markdown",
   "metadata": {}
  },
  {
   "cell_type": "code",
   "execution_count": 133,
   "metadata": {},
   "outputs": [],
   "source": [
    "freq = fim.apriori(item_list, supp=30, target='s' , report='s')\n",
    "closed = fim.apriori(item_list, supp=30, target='c' , report='s')\n",
    "maximal = fim.apriori(item_list, supp=30, target='m' , report='s')"
   ]
  },
  {
   "source": [
    "#### Create the truth table of the LP problem"
   ],
   "cell_type": "markdown",
   "metadata": {}
  },
  {
   "cell_type": "code",
   "execution_count": 134,
   "metadata": {},
   "outputs": [],
   "source": [
    "A_eq = create_truth_table(items, freq)\n",
    "# A_eq = create_truth_table(items, closed)\n",
    "# A_eq = create_truth_table(items, maximal)"
   ]
  },
  {
   "source": [
    "#### Formulate the LP problem (obj function, bounds...)"
   ],
   "cell_type": "markdown",
   "metadata": {}
  },
  {
   "cell_type": "code",
   "execution_count": 135,
   "metadata": {},
   "outputs": [],
   "source": [
    "obj = np.ones(A_eq.shape[1])\n",
    "b_eq = np.append(np.array([fr[1] for fr in freq]), np.array([1]), axis = 0)\n",
    "bounds = (0, 1)"
   ]
  },
  {
   "cell_type": "code",
   "execution_count": 309,
   "metadata": {},
   "outputs": [],
   "source": [
    "# obj = np.ones(A_eq.shape[1])\n",
    "# b_eq = np.append(np.array([clos[1] for clos in closed]), np.array([1]), axis = 0)\n",
    "# bounds = (0, 1)"
   ]
  },
  {
   "cell_type": "code",
   "execution_count": 27,
   "metadata": {},
   "outputs": [],
   "source": [
    "# obj = np.ones(A_eq.shape[1])\n",
    "# b_eq = np.append(np.array([maxim[1] for maxim in maximal]), np.array([1]), axis = 0)\n",
    "# bounds = (0, 1)"
   ]
  },
  {
   "source": [
    "#### Solve the problem "
   ],
   "cell_type": "markdown",
   "metadata": {}
  },
  {
   "cell_type": "code",
   "execution_count": 136,
   "metadata": {},
   "outputs": [],
   "source": [
    "a = linprog(c=obj, A_eq=A_eq, b_eq=b_eq, method='simplex', bounds=bounds)"
   ]
  },
  {
   "source": [
    "#### Reconstruct the database from LP solution"
   ],
   "cell_type": "markdown",
   "metadata": {}
  },
  {
   "cell_type": "code",
   "execution_count": 137,
   "metadata": {},
   "outputs": [],
   "source": [
    "recon_db = reconstruct_db(items, a.x)"
   ]
  },
  {
   "source": [
    "#### Add reconstructed transactions supports to the trans dictionary"
   ],
   "cell_type": "markdown",
   "metadata": {}
  },
  {
   "cell_type": "code",
   "execution_count": 138,
   "metadata": {},
   "outputs": [],
   "source": [
    "for item in recon_db:\n",
    "    if item[0] in example_dict.keys():\n",
    "        example_dict[item[0]][1] = item[1]\n",
    "    else:\n",
    "        example_dict[item[0]] = [0, item[1]]"
   ]
  },
  {
   "source": [
    "#### Calculate database distance"
   ],
   "cell_type": "markdown",
   "metadata": {}
  },
  {
   "cell_type": "code",
   "execution_count": 139,
   "metadata": {},
   "outputs": [
    {
     "output_type": "execute_result",
     "data": {
      "text/plain": [
       "0.7159420815608548"
      ]
     },
     "metadata": {},
     "execution_count": 139
    }
   ],
   "source": [
    "distance.jensenshannon([value[0] for value in example_dict.values()], [value[1] for value in example_dict.values()])"
   ]
  },
  {
   "cell_type": "code",
   "execution_count": null,
   "metadata": {},
   "outputs": [],
   "source": []
  }
 ]
}